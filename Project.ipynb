{
 "cells": [
  {
   "cell_type": "markdown",
   "metadata": {},
   "source": [
    "# Module 2 Project"
   ]
  },
  {
   "cell_type": "markdown",
   "metadata": {},
   "source": [
    "## 1st Hypotheses \n",
    "\n",
    "## Do discounts have a statistically significant effect on the number of products customers order? If so, at what level(s) of discount?"
   ]
  },
  {
   "cell_type": "markdown",
   "metadata": {},
   "source": [
    "### Null Hypothesis: discounts have no effect on the # of products that customer's order\n",
    "\n",
    "### Alternate Hypothesis: discounts do effect the # of products that customer's order\n",
    "(2-tailed test)"
   ]
  },
  {
   "cell_type": "code",
   "execution_count": 1,
   "metadata": {},
   "outputs": [],
   "source": [
    "import numpy as np\n",
    "from scipy import stats\n",
    "import seaborn as sns\n",
    "import matplotlib.pyplot as plt\n",
    "import pandas as pd\n",
    "\n",
    "sns.set_style('whitegrid')\n",
    "\n",
    "%config InlineBackend.figure_format = 'retina'\n",
    "%matplotlib inline"
   ]
  },
  {
   "cell_type": "markdown",
   "metadata": {},
   "source": [
    "### Getting The Right Info (SQL)"
   ]
  },
  {
   "cell_type": "code",
   "execution_count": 2,
   "metadata": {},
   "outputs": [],
   "source": [
    "import sqlalchemy\n",
    "from sqlalchemy import create_engine\n",
    "from sqlalchemy.orm import Session, sessionmaker\n",
    "from sqlalchemy import inspect\n",
    "\n",
    "engine = create_engine(\"sqlite:///Northwind_small.sqlite\")\n",
    "Session = sessionmaker(bind=engine)\n",
    "session = Session()\n",
    "inspector = inspect(engine)"
   ]
  },
  {
   "cell_type": "code",
   "execution_count": 3,
   "metadata": {},
   "outputs": [
    {
     "name": "stdout",
     "output_type": "stream",
     "text": [
      "['Category', 'Customer', 'CustomerCustomerDemo', 'CustomerDemographic', 'Employee', 'EmployeeTerritory', 'Order', 'OrderDetail', 'Product', 'Region', 'Shipper', 'Supplier', 'Territory']\n"
     ]
    }
   ],
   "source": [
    "# Get names of tables in database\n",
    "print(inspector.get_table_names())"
   ]
  },
  {
   "cell_type": "code",
   "execution_count": 4,
   "metadata": {},
   "outputs": [
    {
     "data": {
      "text/html": [
       "<div>\n",
       "<style scoped>\n",
       "    .dataframe tbody tr th:only-of-type {\n",
       "        vertical-align: middle;\n",
       "    }\n",
       "\n",
       "    .dataframe tbody tr th {\n",
       "        vertical-align: top;\n",
       "    }\n",
       "\n",
       "    .dataframe thead th {\n",
       "        text-align: right;\n",
       "    }\n",
       "</style>\n",
       "<table border=\"1\" class=\"dataframe\">\n",
       "  <thead>\n",
       "    <tr style=\"text-align: right;\">\n",
       "      <th></th>\n",
       "      <th>ProductId</th>\n",
       "      <th>total</th>\n",
       "    </tr>\n",
       "  </thead>\n",
       "  <tbody>\n",
       "    <tr>\n",
       "      <th>0</th>\n",
       "      <td>1</td>\n",
       "      <td>391</td>\n",
       "    </tr>\n",
       "    <tr>\n",
       "      <th>1</th>\n",
       "      <td>2</td>\n",
       "      <td>408</td>\n",
       "    </tr>\n",
       "    <tr>\n",
       "      <th>2</th>\n",
       "      <td>3</td>\n",
       "      <td>288</td>\n",
       "    </tr>\n",
       "    <tr>\n",
       "      <th>3</th>\n",
       "      <td>4</td>\n",
       "      <td>172</td>\n",
       "    </tr>\n",
       "    <tr>\n",
       "      <th>4</th>\n",
       "      <td>5</td>\n",
       "      <td>176</td>\n",
       "    </tr>\n",
       "  </tbody>\n",
       "</table>\n",
       "</div>"
      ],
      "text/plain": [
       "   ProductId  total\n",
       "0          1    391\n",
       "1          2    408\n",
       "2          3    288\n",
       "3          4    172\n",
       "4          5    176"
      ]
     },
     "execution_count": 4,
     "metadata": {},
     "output_type": "execute_result"
    }
   ],
   "source": [
    "nodiscount_df = pd.read_sql_query(\"Select ProductId, SUM(Quantity) total from OrderDetail where Discount = 0 group by ProductId\", engine)\n",
    "nodiscount_df.head()"
   ]
  },
  {
   "cell_type": "code",
   "execution_count": 5,
   "metadata": {},
   "outputs": [
    {
     "data": {
      "text/html": [
       "<div>\n",
       "<style scoped>\n",
       "    .dataframe tbody tr th:only-of-type {\n",
       "        vertical-align: middle;\n",
       "    }\n",
       "\n",
       "    .dataframe tbody tr th {\n",
       "        vertical-align: top;\n",
       "    }\n",
       "\n",
       "    .dataframe thead th {\n",
       "        text-align: right;\n",
       "    }\n",
       "</style>\n",
       "<table border=\"1\" class=\"dataframe\">\n",
       "  <thead>\n",
       "    <tr style=\"text-align: right;\">\n",
       "      <th></th>\n",
       "      <th>ProductId</th>\n",
       "      <th>total</th>\n",
       "    </tr>\n",
       "  </thead>\n",
       "  <tbody>\n",
       "    <tr>\n",
       "      <th>0</th>\n",
       "      <td>1</td>\n",
       "      <td>437</td>\n",
       "    </tr>\n",
       "    <tr>\n",
       "      <th>1</th>\n",
       "      <td>2</td>\n",
       "      <td>649</td>\n",
       "    </tr>\n",
       "    <tr>\n",
       "      <th>2</th>\n",
       "      <td>3</td>\n",
       "      <td>40</td>\n",
       "    </tr>\n",
       "    <tr>\n",
       "      <th>3</th>\n",
       "      <td>4</td>\n",
       "      <td>281</td>\n",
       "    </tr>\n",
       "    <tr>\n",
       "      <th>4</th>\n",
       "      <td>5</td>\n",
       "      <td>122</td>\n",
       "    </tr>\n",
       "  </tbody>\n",
       "</table>\n",
       "</div>"
      ],
      "text/plain": [
       "   ProductId  total\n",
       "0          1    437\n",
       "1          2    649\n",
       "2          3     40\n",
       "3          4    281\n",
       "4          5    122"
      ]
     },
     "execution_count": 5,
     "metadata": {},
     "output_type": "execute_result"
    }
   ],
   "source": [
    "discount_df = pd.read_sql_query(\"Select ProductId, SUM(Quantity) total from OrderDetail where Discount > 0 group by ProductId\", engine)\n",
    "discount_df.head()"
   ]
  },
  {
   "cell_type": "markdown",
   "metadata": {},
   "source": [
    "## Prepping the Data for the Hypothesis Testing Using Pandas"
   ]
  },
  {
   "cell_type": "code",
   "execution_count": 6,
   "metadata": {},
   "outputs": [],
   "source": [
    "nodiscount = np.array(nodiscount_df.total)\n",
    "discount = np.array(discount_df.total)"
   ]
  },
  {
   "cell_type": "code",
   "execution_count": 7,
   "metadata": {},
   "outputs": [
    {
     "data": {
      "text/plain": [
       "array([  46,  241, -248,  109,  -54, -127, -493, -108,   77, -114,  -50,\n",
       "       -106, -221,  -80,  -48,  224,   58,   15, -115,    5, -144, -296,\n",
       "       -184, -283,   68,  -61, -335,  -98, -100,  -26,  233,   75, -283,\n",
       "        -32, -179, -183,   31,  -17,  107,  -41, -217,   55, -170,  151,\n",
       "         68, -172,  -87,   90, -236, -115,    2, -208, -156, -149,  449,\n",
       "       -279, -316,  272, -154,   47,  219, -347, -135, -260,   83,  -99,\n",
       "        -46, -277,  122,  -59, -251, -414,  -61, -155, -107, -201,  -31],\n",
       "      dtype=int64)"
      ]
     },
     "execution_count": 7,
     "metadata": {},
     "output_type": "execute_result"
    }
   ],
   "source": [
    "difference = discount-nodiscount\n",
    "difference"
   ]
  },
  {
   "cell_type": "markdown",
   "metadata": {},
   "source": [
    "#### Because we are comparing a mean change of 0 (null hypothesis) vs the actual change observed in products sold by product, discount vs no discount, I think we need to do a 1 sample t-test"
   ]
  },
  {
   "cell_type": "markdown",
   "metadata": {},
   "source": [
    "## Hypothesis Test Begins"
   ]
  },
  {
   "cell_type": "markdown",
   "metadata": {},
   "source": [
    "### Null Hypo: mu = 0\n",
    "### Alt Hypo: mu != 0\n",
    "alpha = .05"
   ]
  },
  {
   "cell_type": "code",
   "execution_count": 8,
   "metadata": {},
   "outputs": [],
   "source": [
    "n = difference.size\n",
    "dfr = n-1"
   ]
  },
  {
   "cell_type": "markdown",
   "metadata": {},
   "source": [
    "### Visualize Sample Distribution"
   ]
  },
  {
   "cell_type": "code",
   "execution_count": 9,
   "metadata": {},
   "outputs": [
    {
     "data": {
      "text/plain": [
       "<matplotlib.axes._subplots.AxesSubplot at 0x1f1533f2208>"
      ]
     },
     "execution_count": 9,
     "metadata": {},
     "output_type": "execute_result"
    },
    {
     "data": {
      "image/png": "[encoded data removed]",
      "text/plain": [
       "<Figure size 432x288 with 1 Axes>"
      ]
     },
     "metadata": {
      "image/png": {
       "height": 250,
       "width": 388
      },
      "needs_background": "light"
     },
     "output_type": "display_data"
    }
   ],
   "source": [
    "sns.distplot(difference)"
   ]
  },
  {
   "cell_type": "markdown",
   "metadata": {},
   "source": [
    "The T-Test needs the data to be normally distributed to be reliable.  From this histogram, it is clear we are able to meet that assumption"
   ]
  },
  {
   "cell_type": "markdown",
   "metadata": {},
   "source": [
    "### Results:"
   ]
  },
  {
   "cell_type": "code",
   "execution_count": 10,
   "metadata": {},
   "outputs": [
    {
     "name": "stdout",
     "output_type": "stream",
     "text": [
      "The t-value for our sample is -3.96 and the p-value is 0.0002\n"
     ]
    }
   ],
   "source": [
    "results = stats.ttest_1samp(a= difference, popmean= 0)         \n",
    "print (\"The t-value for our sample is\", round(results[0], 2), \"and the p-value is\", np.round((results[1]), 4))"
   ]
  },
  {
   "cell_type": "code",
   "execution_count": 11,
   "metadata": {},
   "outputs": [
    {
     "data": {
      "text/plain": [
       "1.992"
      ]
     },
     "execution_count": 11,
     "metadata": {},
     "output_type": "execute_result"
    }
   ],
   "source": [
    "t_crit = np.round(stats.t.ppf(1 - 0.025, df=dfr),3)\n",
    "t_crit"
   ]
  },
  {
   "cell_type": "markdown",
   "metadata": {},
   "source": [
    "Our t-critical value for this 2-tailed test is plus or minus 1.992.  Since our t-value of -3.96 is less than -1.992 we reject the null hypothesis that discounts have no significant effect on product sales.  And our negative t-value tells us that we actually saw, in the data, statistically significant evidence that discounts were associated with fewer raw sale numbers\n",
    "\n",
    "To me this result is surprising. One would generally assume that people would generally rather buy a product that is less expensive vs. the same product that is listed at a more expensive price.  This makes me call into question the validity of this hypothesis.  One thing that immediately raises a red flag is that with this test, we had no idea how long each product was offered at full price vs. discounted price.  Each product could have been discounted 1 month of the year and at full price the other 11 months.  Even if the discount resulted in more sales per month, overall sales would almost always still favor the full price item due to time advantage.\n",
    "\n",
    "So I don't think we should pay any mind to the results of this hypothesis test.  To truly try to gauge success of discounted prices, one would have to devise a test that examined sales rates (time factored in) rather than raw sales numbers over an unidentified period of time"
   ]
  },
  {
   "cell_type": "markdown",
   "metadata": {},
   "source": [
    "# 2nd Hypothesis"
   ]
  },
  {
   "cell_type": "markdown",
   "metadata": {},
   "source": [
    "### Topic - Younger vs Older employees sales numbers\n",
    "\n",
    "#### SQL Query"
   ]
  },
  {
   "cell_type": "code",
   "execution_count": 12,
   "metadata": {},
   "outputs": [
    {
     "data": {
      "text/html": [
       "<div>\n",
       "<style scoped>\n",
       "    .dataframe tbody tr th:only-of-type {\n",
       "        vertical-align: middle;\n",
       "    }\n",
       "\n",
       "    .dataframe tbody tr th {\n",
       "        vertical-align: top;\n",
       "    }\n",
       "\n",
       "    .dataframe thead th {\n",
       "        text-align: right;\n",
       "    }\n",
       "</style>\n",
       "<table border=\"1\" class=\"dataframe\">\n",
       "  <thead>\n",
       "    <tr style=\"text-align: right;\">\n",
       "      <th></th>\n",
       "      <th>OrderId</th>\n",
       "      <th>EmployeeId</th>\n",
       "      <th>OrderDate</th>\n",
       "      <th>LastName</th>\n",
       "      <th>FirstName</th>\n",
       "      <th>BirthDate</th>\n",
       "      <th>num_orders</th>\n",
       "    </tr>\n",
       "  </thead>\n",
       "  <tbody>\n",
       "    <tr>\n",
       "      <th>0</th>\n",
       "      <td>10403</td>\n",
       "      <td>4</td>\n",
       "      <td>2013-01-03</td>\n",
       "      <td>Peacock</td>\n",
       "      <td>Margaret</td>\n",
       "      <td>1969-09-19</td>\n",
       "      <td>125</td>\n",
       "    </tr>\n",
       "    <tr>\n",
       "      <th>1</th>\n",
       "      <td>10400</td>\n",
       "      <td>1</td>\n",
       "      <td>2013-01-01</td>\n",
       "      <td>Davolio</td>\n",
       "      <td>Nancy</td>\n",
       "      <td>1980-12-08</td>\n",
       "      <td>97</td>\n",
       "    </tr>\n",
       "    <tr>\n",
       "      <th>2</th>\n",
       "      <td>10404</td>\n",
       "      <td>2</td>\n",
       "      <td>2013-01-03</td>\n",
       "      <td>Fuller</td>\n",
       "      <td>Andrew</td>\n",
       "      <td>1984-02-19</td>\n",
       "      <td>80</td>\n",
       "    </tr>\n",
       "    <tr>\n",
       "      <th>3</th>\n",
       "      <td>10463</td>\n",
       "      <td>5</td>\n",
       "      <td>2013-03-04</td>\n",
       "      <td>Buchanan</td>\n",
       "      <td>Steven</td>\n",
       "      <td>1987-03-04</td>\n",
       "      <td>31</td>\n",
       "    </tr>\n",
       "    <tr>\n",
       "      <th>4</th>\n",
       "      <td>10402</td>\n",
       "      <td>8</td>\n",
       "      <td>2013-01-02</td>\n",
       "      <td>Callahan</td>\n",
       "      <td>Laura</td>\n",
       "      <td>1990-01-09</td>\n",
       "      <td>85</td>\n",
       "    </tr>\n",
       "    <tr>\n",
       "      <th>5</th>\n",
       "      <td>10406</td>\n",
       "      <td>7</td>\n",
       "      <td>2013-01-07</td>\n",
       "      <td>King</td>\n",
       "      <td>Robert</td>\n",
       "      <td>1992-05-29</td>\n",
       "      <td>61</td>\n",
       "    </tr>\n",
       "    <tr>\n",
       "      <th>6</th>\n",
       "      <td>10423</td>\n",
       "      <td>6</td>\n",
       "      <td>2013-01-23</td>\n",
       "      <td>Suyama</td>\n",
       "      <td>Michael</td>\n",
       "      <td>1995-07-02</td>\n",
       "      <td>52</td>\n",
       "    </tr>\n",
       "    <tr>\n",
       "      <th>7</th>\n",
       "      <td>10409</td>\n",
       "      <td>3</td>\n",
       "      <td>2013-01-09</td>\n",
       "      <td>Leverling</td>\n",
       "      <td>Janet</td>\n",
       "      <td>1995-08-30</td>\n",
       "      <td>109</td>\n",
       "    </tr>\n",
       "    <tr>\n",
       "      <th>8</th>\n",
       "      <td>10411</td>\n",
       "      <td>9</td>\n",
       "      <td>2013-01-10</td>\n",
       "      <td>Dodsworth</td>\n",
       "      <td>Anne</td>\n",
       "      <td>1998-01-27</td>\n",
       "      <td>38</td>\n",
       "    </tr>\n",
       "  </tbody>\n",
       "</table>\n",
       "</div>"
      ],
      "text/plain": [
       "   OrderId  EmployeeId   OrderDate   LastName FirstName   BirthDate  \\\n",
       "0    10403           4  2013-01-03    Peacock  Margaret  1969-09-19   \n",
       "1    10400           1  2013-01-01    Davolio     Nancy  1980-12-08   \n",
       "2    10404           2  2013-01-03     Fuller    Andrew  1984-02-19   \n",
       "3    10463           5  2013-03-04   Buchanan    Steven  1987-03-04   \n",
       "4    10402           8  2013-01-02   Callahan     Laura  1990-01-09   \n",
       "5    10406           7  2013-01-07       King    Robert  1992-05-29   \n",
       "6    10423           6  2013-01-23     Suyama   Michael  1995-07-02   \n",
       "7    10409           3  2013-01-09  Leverling     Janet  1995-08-30   \n",
       "8    10411           9  2013-01-10  Dodsworth      Anne  1998-01-27   \n",
       "\n",
       "   num_orders  \n",
       "0         125  \n",
       "1          97  \n",
       "2          80  \n",
       "3          31  \n",
       "4          85  \n",
       "5          61  \n",
       "6          52  \n",
       "7         109  \n",
       "8          38  "
      ]
     },
     "execution_count": 12,
     "metadata": {},
     "output_type": "execute_result"
    }
   ],
   "source": [
    "df = pd.read_sql_query(\"\"\"\n",
    "Select o.Id OrderId, o.EmployeeId, o.OrderDate, e.LastName, e.FirstName, e.BirthDate, count(*) num_orders \n",
    "from [Order] o JOIN Employee e on o.EmployeeId = e.Id where o.OrderDate between '2013-01-01' and '2015-01-01' \n",
    "group by o.EmployeeId\n",
    "order by e.Birthdate\n",
    "\"\"\", engine)\n",
    "df"
   ]
  },
  {
   "cell_type": "markdown",
   "metadata": {},
   "source": [
    "### Is there a statistically significant difference between sales rates of the lower 50 percentile of employees vs the upper 50 percentile of employees (age)?  \n",
    "\n",
    "This test measures over a 2 calendar year period.  We are using raw number of orders as the measure of sales in this test"
   ]
  },
  {
   "cell_type": "markdown",
   "metadata": {},
   "source": [
    "### Null Hypo: no difference between sales rates of older vs younger sales employees\n",
    "\n",
    "### Alternative: there is a difference between the two\n",
    "\n",
    "(2-tailed test), alpha=.05"
   ]
  },
  {
   "cell_type": "code",
   "execution_count": 13,
   "metadata": {},
   "outputs": [],
   "source": [
    "young = np.array(df.num_orders.iloc[0:4])\n",
    "old = np.array(df.num_orders.iloc[5:])"
   ]
  },
  {
   "cell_type": "code",
   "execution_count": 14,
   "metadata": {
    "scrolled": true
   },
   "outputs": [
    {
     "data": {
      "text/plain": [
       "array([125,  97,  80,  31], dtype=int64)"
      ]
     },
     "execution_count": 14,
     "metadata": {},
     "output_type": "execute_result"
    }
   ],
   "source": [
    "young"
   ]
  },
  {
   "cell_type": "code",
   "execution_count": 15,
   "metadata": {},
   "outputs": [
    {
     "data": {
      "text/plain": [
       "array([ 61,  52, 109,  38], dtype=int64)"
      ]
     },
     "execution_count": 15,
     "metadata": {},
     "output_type": "execute_result"
    }
   ],
   "source": [
    "old"
   ]
  },
  {
   "cell_type": "code",
   "execution_count": 16,
   "metadata": {},
   "outputs": [
    {
     "data": {
      "text/plain": [
       "(83.25, 65.0)"
      ]
     },
     "execution_count": 16,
     "metadata": {},
     "output_type": "execute_result"
    }
   ],
   "source": [
    "young.mean(), old.mean()"
   ]
  },
  {
   "cell_type": "code",
   "execution_count": 17,
   "metadata": {},
   "outputs": [
    {
     "data": {
      "text/plain": [
       "<matplotlib.legend.Legend at 0x1f153948da0>"
      ]
     },
     "execution_count": 17,
     "metadata": {},
     "output_type": "execute_result"
    },
    {
     "data": {
      "image/png": "[encoded data removed]",
      "text/plain": [
       "<Figure size 864x720 with 1 Axes>"
      ]
     },
     "metadata": {
      "image/png": {
       "height": 597,
       "width": 727
      }
     },
     "output_type": "display_data"
    }
   ],
   "source": [
    "sns.set(color_codes=True)\n",
    "sns.set(rc={'figure.figsize':(12,10)})\n",
    "sns.distplot(young, label='young')\n",
    "sns.distplot(old, label='old') \n",
    "plt.title(\"Distribution Of Samples\", size=20)\n",
    "plt.legend()"
   ]
  },
  {
   "cell_type": "code",
   "execution_count": 18,
   "metadata": {},
   "outputs": [
    {
     "data": {
      "text/plain": [
       "(712.5, 1168.1875)"
      ]
     },
     "execution_count": 18,
     "metadata": {},
     "output_type": "execute_result"
    }
   ],
   "source": [
    "# variance comparison\n",
    "\n",
    "old.var(), young.var()"
   ]
  },
  {
   "cell_type": "markdown",
   "metadata": {},
   "source": [
    "#### The normality is not great and the variances are quite different.  I think we should use the Welch's t-test instead of the Student's t-test because it allows for unequal variances of the samples"
   ]
  },
  {
   "cell_type": "markdown",
   "metadata": {},
   "source": [
    "### Results:"
   ]
  },
  {
   "cell_type": "code",
   "execution_count": 19,
   "metadata": {},
   "outputs": [
    {
     "data": {
      "text/plain": [
       "Ttest_indResult(statistic=0.7288953457873759, pvalue=0.49506950217916734)"
      ]
     },
     "execution_count": 19,
     "metadata": {},
     "output_type": "execute_result"
    }
   ],
   "source": [
    "## To use the Welch statistic instead of the Student statistic, you have to set the equal_var paramter to false\n",
    "stats.ttest_ind(young,old, equal_var=False)"
   ]
  },
  {
   "cell_type": "markdown",
   "metadata": {},
   "source": [
    "#### The p-value for our t-statistic of .729 is .495.  This is greater than our alpha of.05 so we ACCEPT the null hypothesis.  We are 95% sure there is no major difference in sales effectiveness by difference in age based on our samples"
   ]
  },
  {
   "cell_type": "markdown",
   "metadata": {},
   "source": [
    "Even though the sample means are not very close to eachother (83 vs. 65) we were not even close to being able to reject the null hypothesis.  I think this is because we had so few data points to work with.  I didn't realize when I was first thinking about this question that the Northwind Database only had information for 9 sales employees.  \n",
    "\n",
    "As it stands, I don't think this test was very useful due to the lack of data available. I think it could have been an informative question for the company had there between more information in the database on this subject."
   ]
  },
  {
   "cell_type": "markdown",
   "metadata": {},
   "source": [
    "# Third Hypothesis"
   ]
  },
  {
   "cell_type": "markdown",
   "metadata": {},
   "source": [
    "### Is the average order amount (in money) greater when the sales employee is located in the same country as the buyer?\n",
    "\n",
    "#### Null Hypo: no difference in average order amount\n",
    "#### Alt Hypo:  difference in average order amount\n",
    "(2-tailed, alpha=.05)"
   ]
  },
  {
   "cell_type": "code",
   "execution_count": 20,
   "metadata": {},
   "outputs": [
    {
     "data": {
      "text/html": [
       "<div>\n",
       "<style scoped>\n",
       "    .dataframe tbody tr th:only-of-type {\n",
       "        vertical-align: middle;\n",
       "    }\n",
       "\n",
       "    .dataframe tbody tr th {\n",
       "        vertical-align: top;\n",
       "    }\n",
       "\n",
       "    .dataframe thead th {\n",
       "        text-align: right;\n",
       "    }\n",
       "</style>\n",
       "<table border=\"1\" class=\"dataframe\">\n",
       "  <thead>\n",
       "    <tr style=\"text-align: right;\">\n",
       "      <th></th>\n",
       "      <th>UnitPrice</th>\n",
       "      <th>Quantity</th>\n",
       "      <th>Discount</th>\n",
       "      <th>OrderId</th>\n",
       "      <th>CustomerCountry</th>\n",
       "      <th>EmployeeCountry</th>\n",
       "    </tr>\n",
       "  </thead>\n",
       "  <tbody>\n",
       "    <tr>\n",
       "      <th>0</th>\n",
       "      <td>17.0</td>\n",
       "      <td>12</td>\n",
       "      <td>0.2</td>\n",
       "      <td>10262</td>\n",
       "      <td>USA</td>\n",
       "      <td>USA</td>\n",
       "    </tr>\n",
       "    <tr>\n",
       "      <th>1</th>\n",
       "      <td>24.0</td>\n",
       "      <td>15</td>\n",
       "      <td>0.0</td>\n",
       "      <td>10262</td>\n",
       "      <td>USA</td>\n",
       "      <td>USA</td>\n",
       "    </tr>\n",
       "    <tr>\n",
       "      <th>2</th>\n",
       "      <td>30.4</td>\n",
       "      <td>2</td>\n",
       "      <td>0.0</td>\n",
       "      <td>10262</td>\n",
       "      <td>USA</td>\n",
       "      <td>USA</td>\n",
       "    </tr>\n",
       "    <tr>\n",
       "      <th>3</th>\n",
       "      <td>8.0</td>\n",
       "      <td>30</td>\n",
       "      <td>0.0</td>\n",
       "      <td>10289</td>\n",
       "      <td>UK</td>\n",
       "      <td>UK</td>\n",
       "    </tr>\n",
       "    <tr>\n",
       "      <th>4</th>\n",
       "      <td>26.6</td>\n",
       "      <td>9</td>\n",
       "      <td>0.0</td>\n",
       "      <td>10289</td>\n",
       "      <td>UK</td>\n",
       "      <td>UK</td>\n",
       "    </tr>\n",
       "  </tbody>\n",
       "</table>\n",
       "</div>"
      ],
      "text/plain": [
       "   UnitPrice  Quantity  Discount  OrderId CustomerCountry EmployeeCountry\n",
       "0       17.0        12       0.2    10262             USA             USA\n",
       "1       24.0        15       0.0    10262             USA             USA\n",
       "2       30.4         2       0.0    10262             USA             USA\n",
       "3        8.0        30       0.0    10289              UK              UK\n",
       "4       26.6         9       0.0    10289              UK              UK"
      ]
     },
     "execution_count": 20,
     "metadata": {},
     "output_type": "execute_result"
    }
   ],
   "source": [
    "df = pd.read_sql_query(\"\"\"\n",
    "Select d.UnitPrice, d.Quantity, d.Discount, o.Id OrderId, \n",
    "o.ShipCountry CustomerCountry, e.Country EmployeeCountry\n",
    "from [Order] o  join Employee e on o.EmployeeId = e.Id \n",
    "join OrderDetail d on d.OrderId = o.Id\n",
    "where o.ShipCountry = e.Country\n",
    "\"\"\", engine)\n",
    "df.head()"
   ]
  },
  {
   "cell_type": "markdown",
   "metadata": {},
   "source": [
    "### Preparation of Data for Hypothesis Testing Using Pandas"
   ]
  },
  {
   "cell_type": "code",
   "execution_count": 21,
   "metadata": {},
   "outputs": [],
   "source": [
    "#calculate price for each sub-order and create new row for value\n",
    "\n",
    "df['TotalMoney'] = round(df.UnitPrice * df.Quantity * (1-df.Discount),3)"
   ]
  },
  {
   "cell_type": "code",
   "execution_count": 22,
   "metadata": {
    "scrolled": false
   },
   "outputs": [],
   "source": [
    "#use a groupby (in Pandas) to combine all the sub-orders of each order to get the total price of each order\n",
    "#the sum method does the addition\n",
    "#store the series as an array for the hypothesis testing\n",
    "\n",
    "same_country = np.array(df.groupby('OrderId', as_index=False)['TotalMoney'].sum()['TotalMoney'])"
   ]
  },
  {
   "cell_type": "code",
   "execution_count": 23,
   "metadata": {},
   "outputs": [
    {
     "data": {
      "text/html": [
       "<div>\n",
       "<style scoped>\n",
       "    .dataframe tbody tr th:only-of-type {\n",
       "        vertical-align: middle;\n",
       "    }\n",
       "\n",
       "    .dataframe tbody tr th {\n",
       "        vertical-align: top;\n",
       "    }\n",
       "\n",
       "    .dataframe thead th {\n",
       "        text-align: right;\n",
       "    }\n",
       "</style>\n",
       "<table border=\"1\" class=\"dataframe\">\n",
       "  <thead>\n",
       "    <tr style=\"text-align: right;\">\n",
       "      <th></th>\n",
       "      <th>UnitPrice</th>\n",
       "      <th>Quantity</th>\n",
       "      <th>Discount</th>\n",
       "      <th>OrderId</th>\n",
       "      <th>CustomerCountry</th>\n",
       "      <th>EmployeeCountry</th>\n",
       "    </tr>\n",
       "  </thead>\n",
       "  <tbody>\n",
       "    <tr>\n",
       "      <th>0</th>\n",
       "      <td>14.0</td>\n",
       "      <td>12</td>\n",
       "      <td>0.0</td>\n",
       "      <td>10248</td>\n",
       "      <td>France</td>\n",
       "      <td>UK</td>\n",
       "    </tr>\n",
       "    <tr>\n",
       "      <th>1</th>\n",
       "      <td>9.8</td>\n",
       "      <td>10</td>\n",
       "      <td>0.0</td>\n",
       "      <td>10248</td>\n",
       "      <td>France</td>\n",
       "      <td>UK</td>\n",
       "    </tr>\n",
       "    <tr>\n",
       "      <th>2</th>\n",
       "      <td>34.8</td>\n",
       "      <td>5</td>\n",
       "      <td>0.0</td>\n",
       "      <td>10248</td>\n",
       "      <td>France</td>\n",
       "      <td>UK</td>\n",
       "    </tr>\n",
       "    <tr>\n",
       "      <th>3</th>\n",
       "      <td>18.6</td>\n",
       "      <td>9</td>\n",
       "      <td>0.0</td>\n",
       "      <td>10249</td>\n",
       "      <td>Germany</td>\n",
       "      <td>UK</td>\n",
       "    </tr>\n",
       "    <tr>\n",
       "      <th>4</th>\n",
       "      <td>42.4</td>\n",
       "      <td>40</td>\n",
       "      <td>0.0</td>\n",
       "      <td>10249</td>\n",
       "      <td>Germany</td>\n",
       "      <td>UK</td>\n",
       "    </tr>\n",
       "  </tbody>\n",
       "</table>\n",
       "</div>"
      ],
      "text/plain": [
       "   UnitPrice  Quantity  Discount  OrderId CustomerCountry EmployeeCountry\n",
       "0       14.0        12       0.0    10248          France              UK\n",
       "1        9.8        10       0.0    10248          France              UK\n",
       "2       34.8         5       0.0    10248          France              UK\n",
       "3       18.6         9       0.0    10249         Germany              UK\n",
       "4       42.4        40       0.0    10249         Germany              UK"
      ]
     },
     "execution_count": 23,
     "metadata": {},
     "output_type": "execute_result"
    }
   ],
   "source": [
    "df = pd.read_sql_query(\"\"\"\n",
    "Select d.UnitPrice, d.Quantity, d.Discount, o.Id OrderId, \n",
    "o.ShipCountry CustomerCountry, e.Country EmployeeCountry\n",
    "from [Order] o  join Employee e on o.EmployeeId = e.Id \n",
    "join OrderDetail d on d.OrderId = o.Id\n",
    "where o.ShipCountry != e.Country\n",
    "\"\"\", engine)\n",
    "df.head()"
   ]
  },
  {
   "cell_type": "code",
   "execution_count": 24,
   "metadata": {},
   "outputs": [],
   "source": [
    "df['TotalMoney'] = round(df.UnitPrice * df.Quantity * (1-df.Discount),3)"
   ]
  },
  {
   "cell_type": "code",
   "execution_count": 25,
   "metadata": {},
   "outputs": [],
   "source": [
    "diff_country = np.array(df.groupby('OrderId', as_index=False)['TotalMoney'].sum()['TotalMoney'])"
   ]
  },
  {
   "cell_type": "code",
   "execution_count": 26,
   "metadata": {},
   "outputs": [
    {
     "data": {
      "text/plain": [
       "(108, 722)"
      ]
     },
     "execution_count": 26,
     "metadata": {},
     "output_type": "execute_result"
    }
   ],
   "source": [
    "#I think it's okay to do t-tests even when the samples have extremely unbalanced sizes\n",
    "\n",
    "len(same_country), len(diff_country)"
   ]
  },
  {
   "cell_type": "markdown",
   "metadata": {},
   "source": [
    "## Distribution Of Samples"
   ]
  },
  {
   "cell_type": "code",
   "execution_count": 27,
   "metadata": {},
   "outputs": [
    {
     "data": {
      "text/plain": [
       "<matplotlib.legend.Legend at 0x1f153831fd0>"
      ]
     },
     "execution_count": 27,
     "metadata": {},
     "output_type": "execute_result"
    },
    {
     "data": {
      "image/png": "[encoded data removed]",
      "text/plain": [
       "<Figure size 864x720 with 1 Axes>"
      ]
     },
     "metadata": {
      "image/png": {
       "height": 580,
       "width": 729
      }
     },
     "output_type": "display_data"
    }
   ],
   "source": [
    "sns.set(color_codes=True)\n",
    "sns.set(rc={'figure.figsize':(12,10)})\n",
    "sns.distplot(same_country, bins=10, label='same') \n",
    "sns.distplot(diff_country, bins=10, label='different') \n",
    "plt.legend()"
   ]
  },
  {
   "cell_type": "markdown",
   "metadata": {},
   "source": [
    "#### The data is pretty normal except for outliers to the positive side of each.  I think it may be smart to cutoff the data at a certain point to make sure our data is normal so the t-test will be reliable"
   ]
  },
  {
   "cell_type": "code",
   "execution_count": 28,
   "metadata": {},
   "outputs": [],
   "source": [
    "same_country = same_country[same_country<5500]"
   ]
  },
  {
   "cell_type": "code",
   "execution_count": 29,
   "metadata": {},
   "outputs": [],
   "source": [
    "diff_country = diff_country[diff_country<5500]"
   ]
  },
  {
   "cell_type": "code",
   "execution_count": 30,
   "metadata": {},
   "outputs": [
    {
     "data": {
      "text/plain": [
       "<matplotlib.legend.Legend at 0x1f15376d710>"
      ]
     },
     "execution_count": 30,
     "metadata": {},
     "output_type": "execute_result"
    },
    {
     "data": {
      "image/png": "[encoded data removed]",
      "text/plain": [
       "<Figure size 864x720 with 1 Axes>"
      ]
     },
     "metadata": {
      "image/png": {
       "height": 580,
       "width": 729
      }
     },
     "output_type": "display_data"
    }
   ],
   "source": [
    "sns.set(color_codes=True)\n",
    "sns.set(rc={'figure.figsize':(12,10)})\n",
    "sns.distplot(same_country, bins=10, label='same') \n",
    "sns.distplot(diff_country, bins=10, label='different') \n",
    "plt.legend()"
   ]
  },
  {
   "cell_type": "markdown",
   "metadata": {},
   "source": [
    "### Null Hypo: no difference in average sale (price) between items sold to customers where both are located in same country vs where both are located in different countries\n",
    "\n",
    "### Alt Hypo: there is a difference (in either direction)"
   ]
  },
  {
   "cell_type": "markdown",
   "metadata": {},
   "source": [
    "Let's see how the variances of each sample compare to eachother to know what type of t-test to use (student's vs. welch)"
   ]
  },
  {
   "cell_type": "code",
   "execution_count": 31,
   "metadata": {},
   "outputs": [
    {
     "data": {
      "text/plain": [
       "(1540979.951453233, 1188043.0242793628)"
      ]
     },
     "execution_count": 31,
     "metadata": {},
     "output_type": "execute_result"
    }
   ],
   "source": [
    "same_country.var() , diff_country.var()"
   ]
  },
  {
   "cell_type": "markdown",
   "metadata": {},
   "source": [
    "Hmm, not sure if this is too big of a difference to matter.  I'll just do both and see if there is any difference in results"
   ]
  },
  {
   "cell_type": "code",
   "execution_count": 32,
   "metadata": {
    "scrolled": true
   },
   "outputs": [
    {
     "data": {
      "text/plain": [
       "(1531.1159134615384, 1230.4987682403432)"
      ]
     },
     "execution_count": 32,
     "metadata": {},
     "output_type": "execute_result"
    }
   ],
   "source": [
    "same_country.mean(), diff_country.mean()"
   ]
  },
  {
   "cell_type": "markdown",
   "metadata": {},
   "source": [
    "### Results:"
   ]
  },
  {
   "cell_type": "code",
   "execution_count": 33,
   "metadata": {},
   "outputs": [
    {
     "data": {
      "text/plain": [
       "Ttest_indResult(statistic=2.571908616092002, pvalue=0.01029316070357537)"
      ]
     },
     "execution_count": 33,
     "metadata": {},
     "output_type": "execute_result"
    }
   ],
   "source": [
    "stats.ttest_ind(same_country, diff_country)"
   ]
  },
  {
   "cell_type": "code",
   "execution_count": 34,
   "metadata": {},
   "outputs": [
    {
     "data": {
      "text/plain": [
       "Ttest_indResult(statistic=2.3288239395235437, pvalue=0.021441388099563214)"
      ]
     },
     "execution_count": 34,
     "metadata": {},
     "output_type": "execute_result"
    }
   ],
   "source": [
    "stats.ttest_ind(same_country, diff_country, equal_var=False)"
   ]
  },
  {
   "cell_type": "markdown",
   "metadata": {},
   "source": [
    "#### Both p-values are well less than our alpha of .05 so I think it's safe to reject the null hypothesis.  Our two samples give us evidence to suggest that the average sale price is higher when both parties are in the same country vs when not.  Business might be able to use this to determine which countries to add physical location(s) in"
   ]
  },
  {
   "cell_type": "markdown",
   "metadata": {},
   "source": [
    "# 4th and Final Hypothesis"
   ]
  },
  {
   "cell_type": "markdown",
   "metadata": {},
   "source": [
    "#### Let's look further at discounts in this dataset.  For this test, we will measure the average # of units in an order (by product).  Basically we want to see if people buy more of an item (at a time) when it is on sale vs. at full price"
   ]
  },
  {
   "cell_type": "code",
   "execution_count": 35,
   "metadata": {
    "scrolled": true
   },
   "outputs": [
    {
     "data": {
      "text/html": [
       "<div>\n",
       "<style scoped>\n",
       "    .dataframe tbody tr th:only-of-type {\n",
       "        vertical-align: middle;\n",
       "    }\n",
       "\n",
       "    .dataframe tbody tr th {\n",
       "        vertical-align: top;\n",
       "    }\n",
       "\n",
       "    .dataframe thead th {\n",
       "        text-align: right;\n",
       "    }\n",
       "</style>\n",
       "<table border=\"1\" class=\"dataframe\">\n",
       "  <thead>\n",
       "    <tr style=\"text-align: right;\">\n",
       "      <th></th>\n",
       "      <th>Id</th>\n",
       "      <th>OrderId</th>\n",
       "      <th>ProductId</th>\n",
       "      <th>UnitPrice</th>\n",
       "      <th>Quantity</th>\n",
       "      <th>Discount</th>\n",
       "      <th>avg_quant</th>\n",
       "      <th>data_points</th>\n",
       "    </tr>\n",
       "  </thead>\n",
       "  <tbody>\n",
       "    <tr>\n",
       "      <th>0</th>\n",
       "      <td>10294/1</td>\n",
       "      <td>10294</td>\n",
       "      <td>1</td>\n",
       "      <td>14.4</td>\n",
       "      <td>18</td>\n",
       "      <td>0.0</td>\n",
       "      <td>17.772727</td>\n",
       "      <td>22</td>\n",
       "    </tr>\n",
       "    <tr>\n",
       "      <th>1</th>\n",
       "      <td>10255/2</td>\n",
       "      <td>10255</td>\n",
       "      <td>2</td>\n",
       "      <td>15.2</td>\n",
       "      <td>20</td>\n",
       "      <td>0.0</td>\n",
       "      <td>21.473684</td>\n",
       "      <td>19</td>\n",
       "    </tr>\n",
       "    <tr>\n",
       "      <th>2</th>\n",
       "      <td>10289/3</td>\n",
       "      <td>10289</td>\n",
       "      <td>3</td>\n",
       "      <td>8.0</td>\n",
       "      <td>30</td>\n",
       "      <td>0.0</td>\n",
       "      <td>28.800000</td>\n",
       "      <td>10</td>\n",
       "    </tr>\n",
       "    <tr>\n",
       "      <th>3</th>\n",
       "      <td>10309/4</td>\n",
       "      <td>10309</td>\n",
       "      <td>4</td>\n",
       "      <td>17.6</td>\n",
       "      <td>20</td>\n",
       "      <td>0.0</td>\n",
       "      <td>17.200000</td>\n",
       "      <td>10</td>\n",
       "    </tr>\n",
       "    <tr>\n",
       "      <th>4</th>\n",
       "      <td>10290/5</td>\n",
       "      <td>10290</td>\n",
       "      <td>5</td>\n",
       "      <td>17.0</td>\n",
       "      <td>20</td>\n",
       "      <td>0.0</td>\n",
       "      <td>29.333333</td>\n",
       "      <td>6</td>\n",
       "    </tr>\n",
       "  </tbody>\n",
       "</table>\n",
       "</div>"
      ],
      "text/plain": [
       "        Id  OrderId  ProductId  UnitPrice  Quantity  Discount  avg_quant  \\\n",
       "0  10294/1    10294          1       14.4        18       0.0  17.772727   \n",
       "1  10255/2    10255          2       15.2        20       0.0  21.473684   \n",
       "2  10289/3    10289          3        8.0        30       0.0  28.800000   \n",
       "3  10309/4    10309          4       17.6        20       0.0  17.200000   \n",
       "4  10290/5    10290          5       17.0        20       0.0  29.333333   \n",
       "\n",
       "   data_points  \n",
       "0           22  \n",
       "1           19  \n",
       "2           10  \n",
       "3           10  \n",
       "4            6  "
      ]
     },
     "execution_count": 35,
     "metadata": {},
     "output_type": "execute_result"
    }
   ],
   "source": [
    "nodiscount_df_2 = pd.read_sql_query(\"\"\"\n",
    "Select *, avg(Quantity) avg_quant, count(*) data_points from OrderDetail \n",
    "where Discount = 0 group by ProductId order by ProductId\n",
    "\"\"\", engine)\n",
    "\n",
    "#only include products that have at least 5 data points (recorded orders for that product (at that price point))\n",
    "##this is to reduce the chance of an outlier skewing the data\n",
    "\n",
    "nodiscount_df_2 = nodiscount_df_2[nodiscount_df_2.data_points>4]\n",
    "nodiscount_df_2.head()"
   ]
  },
  {
   "cell_type": "code",
   "execution_count": 36,
   "metadata": {},
   "outputs": [
    {
     "data": {
      "text/html": [
       "<div>\n",
       "<style scoped>\n",
       "    .dataframe tbody tr th:only-of-type {\n",
       "        vertical-align: middle;\n",
       "    }\n",
       "\n",
       "    .dataframe tbody tr th {\n",
       "        vertical-align: top;\n",
       "    }\n",
       "\n",
       "    .dataframe thead th {\n",
       "        text-align: right;\n",
       "    }\n",
       "</style>\n",
       "<table border=\"1\" class=\"dataframe\">\n",
       "  <thead>\n",
       "    <tr style=\"text-align: right;\">\n",
       "      <th></th>\n",
       "      <th>Id</th>\n",
       "      <th>OrderId</th>\n",
       "      <th>ProductId</th>\n",
       "      <th>UnitPrice</th>\n",
       "      <th>Quantity</th>\n",
       "      <th>Discount</th>\n",
       "      <th>avg_quanty</th>\n",
       "      <th>data_points</th>\n",
       "    </tr>\n",
       "  </thead>\n",
       "  <tbody>\n",
       "    <tr>\n",
       "      <th>0</th>\n",
       "      <td>10285/1</td>\n",
       "      <td>10285</td>\n",
       "      <td>1</td>\n",
       "      <td>14.4</td>\n",
       "      <td>45</td>\n",
       "      <td>0.20</td>\n",
       "      <td>27.3125</td>\n",
       "      <td>16</td>\n",
       "    </tr>\n",
       "    <tr>\n",
       "      <th>1</th>\n",
       "      <td>10258/2</td>\n",
       "      <td>10258</td>\n",
       "      <td>2</td>\n",
       "      <td>15.2</td>\n",
       "      <td>50</td>\n",
       "      <td>0.20</td>\n",
       "      <td>25.9600</td>\n",
       "      <td>25</td>\n",
       "    </tr>\n",
       "    <tr>\n",
       "      <th>3</th>\n",
       "      <td>10336/4</td>\n",
       "      <td>10336</td>\n",
       "      <td>4</td>\n",
       "      <td>17.6</td>\n",
       "      <td>18</td>\n",
       "      <td>0.10</td>\n",
       "      <td>28.1000</td>\n",
       "      <td>10</td>\n",
       "    </tr>\n",
       "    <tr>\n",
       "      <th>6</th>\n",
       "      <td>10385/7</td>\n",
       "      <td>10385</td>\n",
       "      <td>7</td>\n",
       "      <td>24.0</td>\n",
       "      <td>10</td>\n",
       "      <td>0.20</td>\n",
       "      <td>16.8750</td>\n",
       "      <td>8</td>\n",
       "    </tr>\n",
       "    <tr>\n",
       "      <th>7</th>\n",
       "      <td>10344/8</td>\n",
       "      <td>10344</td>\n",
       "      <td>8</td>\n",
       "      <td>32.0</td>\n",
       "      <td>70</td>\n",
       "      <td>0.25</td>\n",
       "      <td>26.4000</td>\n",
       "      <td>5</td>\n",
       "    </tr>\n",
       "  </tbody>\n",
       "</table>\n",
       "</div>"
      ],
      "text/plain": [
       "        Id  OrderId  ProductId  UnitPrice  Quantity  Discount  avg_quanty  \\\n",
       "0  10285/1    10285          1       14.4        45      0.20     27.3125   \n",
       "1  10258/2    10258          2       15.2        50      0.20     25.9600   \n",
       "3  10336/4    10336          4       17.6        18      0.10     28.1000   \n",
       "6  10385/7    10385          7       24.0        10      0.20     16.8750   \n",
       "7  10344/8    10344          8       32.0        70      0.25     26.4000   \n",
       "\n",
       "   data_points  \n",
       "0           16  \n",
       "1           25  \n",
       "3           10  \n",
       "6            8  \n",
       "7            5  "
      ]
     },
     "execution_count": 36,
     "metadata": {},
     "output_type": "execute_result"
    }
   ],
   "source": [
    "withdiscount_df = pd.read_sql_query(\"\"\"\n",
    "Select *, avg(Quantity) avg_quanty, count(*) data_points from OrderDetail \n",
    "where Discount > 0 group by ProductId order by ProductId\n",
    "\"\"\", engine)\n",
    "withdiscount_df = withdiscount_df[withdiscount_df.data_points>4]\n",
    "\n",
    "#since we are comparing average order size by product, we have to make sure that if a product is represented in one sample\n",
    "#it has to be represented in the other or that product is left out of the samples.  Product #48 existed in the\n",
    "#discount sample but not the no_discount sample (because it did not have enough data points for our condition)\n",
    "#so we had to drop that row of data to even the samples out\n",
    "\n",
    "withdiscount_df = withdiscount_df.drop(withdiscount_df[withdiscount_df.ProductId==48].index)\n",
    "withdiscount_df.head()"
   ]
  },
  {
   "cell_type": "code",
   "execution_count": 37,
   "metadata": {},
   "outputs": [],
   "source": [
    "#make the array from a Series for hypothesis testing\n",
    "#using numpy's isin() on a pandas series, I'm basically using Python's built-in 'in' function to make sure each sample\n",
    "#only has product info where product info exists in both samples\n",
    "\n",
    "samp_no_discount = np.array(nodiscount_df_2[nodiscount_df_2.ProductId.isin(withdiscount_df['ProductId'])]['avg_quant'])"
   ]
  },
  {
   "cell_type": "code",
   "execution_count": 38,
   "metadata": {},
   "outputs": [],
   "source": [
    "samp_yes_discount = np.array(withdiscount_df['avg_quanty'])"
   ]
  },
  {
   "cell_type": "code",
   "execution_count": 39,
   "metadata": {},
   "outputs": [
    {
     "data": {
      "text/plain": [
       "(63, 63)"
      ]
     },
     "execution_count": 39,
     "metadata": {},
     "output_type": "execute_result"
    }
   ],
   "source": [
    "len(samp_no_discount), len(samp_yes_discount)"
   ]
  },
  {
   "cell_type": "markdown",
   "metadata": {},
   "source": [
    "## Distribution of Samples"
   ]
  },
  {
   "cell_type": "code",
   "execution_count": 40,
   "metadata": {},
   "outputs": [
    {
     "data": {
      "text/plain": [
       "<matplotlib.legend.Legend at 0x1f153d852b0>"
      ]
     },
     "execution_count": 40,
     "metadata": {},
     "output_type": "execute_result"
    },
    {
     "data": {
      "image/png": "[encoded data removed]",
      "text/plain": [
       "<Figure size 864x720 with 1 Axes>"
      ]
     },
     "metadata": {
      "image/png": {
       "height": 580,
       "width": 717
      }
     },
     "output_type": "display_data"
    }
   ],
   "source": [
    "sns.set(color_codes=True)\n",
    "sns.set(rc={'figure.figsize':(12,10)})\n",
    "sns.distplot(samp_no_discount, label='no discount')\n",
    "sns.distplot(samp_yes_discount, label='w/discount') \n",
    "plt.legend()"
   ]
  },
  {
   "cell_type": "markdown",
   "metadata": {},
   "source": [
    "### Results:"
   ]
  },
  {
   "cell_type": "code",
   "execution_count": 41,
   "metadata": {},
   "outputs": [
    {
     "data": {
      "text/plain": [
       "Ttest_indResult(statistic=-5.677698459996531, pvalue=9.169740416417652e-08)"
      ]
     },
     "execution_count": 41,
     "metadata": {},
     "output_type": "execute_result"
    }
   ],
   "source": [
    "stats.ttest_ind(samp_no_discount, samp_yes_discount)"
   ]
  },
  {
   "cell_type": "markdown",
   "metadata": {},
   "source": [
    "### Null Hypothesis is easily rejected.  Discounts have a huge impact on how many orders are placed on a specific product at one time.  This makes a lot more sense than our original Hypothesis test on this subject. We now need to look into how each level of discount matters\n",
    "# Extension"
   ]
  },
  {
   "cell_type": "markdown",
   "metadata": {},
   "source": [
    "#### Each subsequent test measures the no_discount sample versus the sample where the Discount is exactly the value stated"
   ]
  },
  {
   "cell_type": "markdown",
   "metadata": {},
   "source": [
    "### 5% Discount"
   ]
  },
  {
   "cell_type": "code",
   "execution_count": 42,
   "metadata": {},
   "outputs": [
    {
     "data": {
      "text/html": [
       "<div>\n",
       "<style scoped>\n",
       "    .dataframe tbody tr th:only-of-type {\n",
       "        vertical-align: middle;\n",
       "    }\n",
       "\n",
       "    .dataframe tbody tr th {\n",
       "        vertical-align: top;\n",
       "    }\n",
       "\n",
       "    .dataframe thead th {\n",
       "        text-align: right;\n",
       "    }\n",
       "</style>\n",
       "<table border=\"1\" class=\"dataframe\">\n",
       "  <thead>\n",
       "    <tr style=\"text-align: right;\">\n",
       "      <th></th>\n",
       "      <th>Id</th>\n",
       "      <th>OrderId</th>\n",
       "      <th>ProductId</th>\n",
       "      <th>UnitPrice</th>\n",
       "      <th>Quantity</th>\n",
       "      <th>Discount</th>\n",
       "      <th>avg_quanty</th>\n",
       "      <th>data_points</th>\n",
       "    </tr>\n",
       "  </thead>\n",
       "  <tbody>\n",
       "    <tr>\n",
       "      <th>1</th>\n",
       "      <td>10632/2</td>\n",
       "      <td>10632</td>\n",
       "      <td>2</td>\n",
       "      <td>19.0</td>\n",
       "      <td>30</td>\n",
       "      <td>0.05</td>\n",
       "      <td>16.666667</td>\n",
       "      <td>3</td>\n",
       "    </tr>\n",
       "    <tr>\n",
       "      <th>3</th>\n",
       "      <td>10871/6</td>\n",
       "      <td>10871</td>\n",
       "      <td>6</td>\n",
       "      <td>25.0</td>\n",
       "      <td>50</td>\n",
       "      <td>0.05</td>\n",
       "      <td>33.000000</td>\n",
       "      <td>2</td>\n",
       "    </tr>\n",
       "    <tr>\n",
       "      <th>4</th>\n",
       "      <td>10459/7</td>\n",
       "      <td>10459</td>\n",
       "      <td>7</td>\n",
       "      <td>24.0</td>\n",
       "      <td>16</td>\n",
       "      <td>0.05</td>\n",
       "      <td>13.000000</td>\n",
       "      <td>4</td>\n",
       "    </tr>\n",
       "    <tr>\n",
       "      <th>5</th>\n",
       "      <td>10273/10</td>\n",
       "      <td>10273</td>\n",
       "      <td>10</td>\n",
       "      <td>24.8</td>\n",
       "      <td>24</td>\n",
       "      <td>0.05</td>\n",
       "      <td>20.000000</td>\n",
       "      <td>3</td>\n",
       "    </tr>\n",
       "    <tr>\n",
       "      <th>6</th>\n",
       "      <td>10542/11</td>\n",
       "      <td>10542</td>\n",
       "      <td>11</td>\n",
       "      <td>21.0</td>\n",
       "      <td>15</td>\n",
       "      <td>0.05</td>\n",
       "      <td>15.000000</td>\n",
       "      <td>2</td>\n",
       "    </tr>\n",
       "  </tbody>\n",
       "</table>\n",
       "</div>"
      ],
      "text/plain": [
       "         Id  OrderId  ProductId  UnitPrice  Quantity  Discount  avg_quanty  \\\n",
       "1   10632/2    10632          2       19.0        30      0.05   16.666667   \n",
       "3   10871/6    10871          6       25.0        50      0.05   33.000000   \n",
       "4   10459/7    10459          7       24.0        16      0.05   13.000000   \n",
       "5  10273/10    10273         10       24.8        24      0.05   20.000000   \n",
       "6  10542/11    10542         11       21.0        15      0.05   15.000000   \n",
       "\n",
       "   data_points  \n",
       "1            3  \n",
       "3            2  \n",
       "4            4  \n",
       "5            3  \n",
       "6            2  "
      ]
     },
     "execution_count": 42,
     "metadata": {},
     "output_type": "execute_result"
    }
   ],
   "source": [
    "withdiscount_df_5 = pd.read_sql_query(\"\"\"\n",
    "Select *, avg(Quantity) avg_quanty, count(*) data_points from OrderDetail \n",
    "where Discount = 0.05 group by ProductId order by ProductId\n",
    "\"\"\", engine)\n",
    "withdiscount_df_5 = withdiscount_df_5[withdiscount_df_5.data_points>1]\n",
    "withdiscount_df_5.head()"
   ]
  },
  {
   "cell_type": "code",
   "execution_count": 43,
   "metadata": {},
   "outputs": [],
   "source": [
    "samp_no_discount_5test = np.array(nodiscount_df_2[nodiscount_df_2.ProductId.isin(withdiscount_df_5['ProductId'])]['avg_quant'])"
   ]
  },
  {
   "cell_type": "code",
   "execution_count": 44,
   "metadata": {},
   "outputs": [],
   "source": [
    "samp_yes_discount_5test = np.array(withdiscount_df_5['avg_quanty'])"
   ]
  },
  {
   "cell_type": "code",
   "execution_count": 45,
   "metadata": {},
   "outputs": [
    {
     "data": {
      "text/plain": [
       "(44, 45, 21.405960696965863, 28.3894708994709)"
      ]
     },
     "execution_count": 45,
     "metadata": {},
     "output_type": "execute_result"
    }
   ],
   "source": [
    "#this is just a check to make sure the samples are corresponded to each other correctly\n",
    "\n",
    "len(samp_no_discount_5test), len(samp_yes_discount_5test), samp_no_discount_5test.mean(), samp_yes_discount_5test.mean()"
   ]
  },
  {
   "cell_type": "markdown",
   "metadata": {},
   "source": [
    "### Results:"
   ]
  },
  {
   "cell_type": "code",
   "execution_count": 46,
   "metadata": {},
   "outputs": [
    {
     "data": {
      "text/plain": [
       "Ttest_indResult(statistic=-3.130344161879004, pvalue=0.002377312663884809)"
      ]
     },
     "execution_count": 46,
     "metadata": {},
     "output_type": "execute_result"
    }
   ],
   "source": [
    "stats.ttest_ind(samp_no_discount_5test, samp_yes_discount_5test)"
   ]
  },
  {
   "cell_type": "markdown",
   "metadata": {},
   "source": [
    "### Rejected the Null Hypothesis with a pvalue of .002.  So even at only a 5% discount there was a significant difference in average order size compared to the same item not discounted"
   ]
  },
  {
   "cell_type": "markdown",
   "metadata": {},
   "source": [
    "## Effect Size"
   ]
  },
  {
   "cell_type": "code",
   "execution_count": 47,
   "metadata": {},
   "outputs": [],
   "source": [
    "def Cohen_d(group1, group2):\n",
    "\n",
    "    # Compute Cohen's d.\n",
    "\n",
    "    # group1: Series or NumPy array\n",
    "    # group2: Series or NumPy array\n",
    "\n",
    "    # returns a floating point number \n",
    "\n",
    "    diff = group1.mean() - group2.mean()\n",
    "\n",
    "    n1, n2 = len(group1), len(group2)\n",
    "    var1 = group1.var()\n",
    "    var2 = group2.var()\n",
    "\n",
    "    # Calculate the pooled threshold as shown earlier\n",
    "    pooled_var = (n1 * var1 + n2 * var2) / (n1 + n2)\n",
    "    \n",
    "    # Calculate Cohen's d statistic\n",
    "    d = diff / np.sqrt(pooled_var)\n",
    "    \n",
    "    return d"
   ]
  },
  {
   "cell_type": "code",
   "execution_count": 48,
   "metadata": {},
   "outputs": [
    {
     "data": {
      "text/plain": [
       "-0.6712586162866624"
      ]
     },
     "execution_count": 48,
     "metadata": {},
     "output_type": "execute_result"
    }
   ],
   "source": [
    "Cohen_d(samp_no_discount_5test, samp_yes_discount_5test)"
   ]
  },
  {
   "cell_type": "markdown",
   "metadata": {},
   "source": [
    "### 10% Discount"
   ]
  },
  {
   "cell_type": "code",
   "execution_count": 49,
   "metadata": {},
   "outputs": [
    {
     "data": {
      "text/html": [
       "<div>\n",
       "<style scoped>\n",
       "    .dataframe tbody tr th:only-of-type {\n",
       "        vertical-align: middle;\n",
       "    }\n",
       "\n",
       "    .dataframe tbody tr th {\n",
       "        vertical-align: top;\n",
       "    }\n",
       "\n",
       "    .dataframe thead th {\n",
       "        text-align: right;\n",
       "    }\n",
       "</style>\n",
       "<table border=\"1\" class=\"dataframe\">\n",
       "  <thead>\n",
       "    <tr style=\"text-align: right;\">\n",
       "      <th></th>\n",
       "      <th>Id</th>\n",
       "      <th>OrderId</th>\n",
       "      <th>ProductId</th>\n",
       "      <th>UnitPrice</th>\n",
       "      <th>Quantity</th>\n",
       "      <th>Discount</th>\n",
       "      <th>avg_quanty</th>\n",
       "      <th>data_points</th>\n",
       "    </tr>\n",
       "  </thead>\n",
       "  <tbody>\n",
       "    <tr>\n",
       "      <th>2</th>\n",
       "      <td>10485/3</td>\n",
       "      <td>10485</td>\n",
       "      <td>3</td>\n",
       "      <td>8.0</td>\n",
       "      <td>20</td>\n",
       "      <td>0.1</td>\n",
       "      <td>20.0</td>\n",
       "      <td>2</td>\n",
       "    </tr>\n",
       "    <tr>\n",
       "      <th>3</th>\n",
       "      <td>10336/4</td>\n",
       "      <td>10336</td>\n",
       "      <td>4</td>\n",
       "      <td>17.6</td>\n",
       "      <td>18</td>\n",
       "      <td>0.1</td>\n",
       "      <td>22.5</td>\n",
       "      <td>4</td>\n",
       "    </tr>\n",
       "    <tr>\n",
       "      <th>8</th>\n",
       "      <td>10688/10</td>\n",
       "      <td>10688</td>\n",
       "      <td>10</td>\n",
       "      <td>31.0</td>\n",
       "      <td>18</td>\n",
       "      <td>0.1</td>\n",
       "      <td>19.0</td>\n",
       "      <td>2</td>\n",
       "    </tr>\n",
       "    <tr>\n",
       "      <th>9</th>\n",
       "      <td>10535/11</td>\n",
       "      <td>10535</td>\n",
       "      <td>11</td>\n",
       "      <td>21.0</td>\n",
       "      <td>50</td>\n",
       "      <td>0.1</td>\n",
       "      <td>40.0</td>\n",
       "      <td>3</td>\n",
       "    </tr>\n",
       "    <tr>\n",
       "      <th>10</th>\n",
       "      <td>10291/13</td>\n",
       "      <td>10291</td>\n",
       "      <td>13</td>\n",
       "      <td>4.8</td>\n",
       "      <td>20</td>\n",
       "      <td>0.1</td>\n",
       "      <td>12.5</td>\n",
       "      <td>4</td>\n",
       "    </tr>\n",
       "  </tbody>\n",
       "</table>\n",
       "</div>"
      ],
      "text/plain": [
       "          Id  OrderId  ProductId  UnitPrice  Quantity  Discount  avg_quanty  \\\n",
       "2    10485/3    10485          3        8.0        20       0.1        20.0   \n",
       "3    10336/4    10336          4       17.6        18       0.1        22.5   \n",
       "8   10688/10    10688         10       31.0        18       0.1        19.0   \n",
       "9   10535/11    10535         11       21.0        50       0.1        40.0   \n",
       "10  10291/13    10291         13        4.8        20       0.1        12.5   \n",
       "\n",
       "    data_points  \n",
       "2             2  \n",
       "3             4  \n",
       "8             2  \n",
       "9             3  \n",
       "10            4  "
      ]
     },
     "execution_count": 49,
     "metadata": {},
     "output_type": "execute_result"
    }
   ],
   "source": [
    "withdiscount_df_10 = pd.read_sql_query(\"\"\"\n",
    "Select *, avg(Quantity) avg_quanty, count(*) data_points from OrderDetail where Discount = 0.10 \n",
    "group by ProductId order by ProductId\n",
    "\"\"\", engine)\n",
    "withdiscount_df_10 = withdiscount_df_10[withdiscount_df_10.data_points>1]\n",
    "withdiscount_df_10 = withdiscount_df_10.drop(withdiscount_df_10[withdiscount_df_10.ProductId==48].index)\n",
    "withdiscount_df_10.head()"
   ]
  },
  {
   "cell_type": "code",
   "execution_count": 50,
   "metadata": {},
   "outputs": [
    {
     "data": {
      "text/plain": [
       "(45, 45, 21.078410582551165, 24.54216931216931)"
      ]
     },
     "execution_count": 50,
     "metadata": {},
     "output_type": "execute_result"
    }
   ],
   "source": [
    "samp_no_discount_10test= np.array(nodiscount_df_2[nodiscount_df_2.ProductId.isin(withdiscount_df_10['ProductId'])]['avg_quant'])\n",
    "samp_yes_discount_10test = np.array(withdiscount_df_10['avg_quanty'])\n",
    "len(samp_no_discount_10test), len(samp_yes_discount_10test), samp_no_discount_10test.mean(), samp_yes_discount_10test.mean()"
   ]
  },
  {
   "cell_type": "markdown",
   "metadata": {},
   "source": [
    "### Results:"
   ]
  },
  {
   "cell_type": "code",
   "execution_count": 51,
   "metadata": {
    "scrolled": true
   },
   "outputs": [
    {
     "data": {
      "text/plain": [
       "Ttest_indResult(statistic=-2.002917556304259, pvalue=0.048263623633464536)"
      ]
     },
     "execution_count": 51,
     "metadata": {},
     "output_type": "execute_result"
    }
   ],
   "source": [
    "stats.ttest_ind(samp_no_discount_10test, samp_yes_discount_10test)"
   ]
  },
  {
   "cell_type": "markdown",
   "metadata": {},
   "source": [
    "#### With a pvalue of .48 we just barely were able to reject the Null Hypothesis.  The difference in means was less stark than for the 5% discount.  That's somewhat surprising"
   ]
  },
  {
   "cell_type": "markdown",
   "metadata": {},
   "source": [
    "### Effect Size"
   ]
  },
  {
   "cell_type": "code",
   "execution_count": 52,
   "metadata": {},
   "outputs": [
    {
     "data": {
      "text/plain": [
       "-0.4270234578052967"
      ]
     },
     "execution_count": 52,
     "metadata": {},
     "output_type": "execute_result"
    }
   ],
   "source": [
    "Cohen_d(samp_no_discount_10test, samp_yes_discount_10test)"
   ]
  },
  {
   "cell_type": "markdown",
   "metadata": {},
   "source": [
    "### 15% Discount"
   ]
  },
  {
   "cell_type": "code",
   "execution_count": 53,
   "metadata": {},
   "outputs": [
    {
     "data": {
      "text/html": [
       "<div>\n",
       "<style scoped>\n",
       "    .dataframe tbody tr th:only-of-type {\n",
       "        vertical-align: middle;\n",
       "    }\n",
       "\n",
       "    .dataframe tbody tr th {\n",
       "        vertical-align: top;\n",
       "    }\n",
       "\n",
       "    .dataframe thead th {\n",
       "        text-align: right;\n",
       "    }\n",
       "</style>\n",
       "<table border=\"1\" class=\"dataframe\">\n",
       "  <thead>\n",
       "    <tr style=\"text-align: right;\">\n",
       "      <th></th>\n",
       "      <th>Id</th>\n",
       "      <th>OrderId</th>\n",
       "      <th>ProductId</th>\n",
       "      <th>UnitPrice</th>\n",
       "      <th>Quantity</th>\n",
       "      <th>Discount</th>\n",
       "      <th>avg_quanty</th>\n",
       "      <th>data_points</th>\n",
       "    </tr>\n",
       "  </thead>\n",
       "  <tbody>\n",
       "    <tr>\n",
       "      <th>0</th>\n",
       "      <td>10348/1</td>\n",
       "      <td>10348</td>\n",
       "      <td>1</td>\n",
       "      <td>14.4</td>\n",
       "      <td>15</td>\n",
       "      <td>0.15</td>\n",
       "      <td>19.600000</td>\n",
       "      <td>5</td>\n",
       "    </tr>\n",
       "    <tr>\n",
       "      <th>1</th>\n",
       "      <td>10440/2</td>\n",
       "      <td>10440</td>\n",
       "      <td>2</td>\n",
       "      <td>15.2</td>\n",
       "      <td>45</td>\n",
       "      <td>0.15</td>\n",
       "      <td>25.000000</td>\n",
       "      <td>5</td>\n",
       "    </tr>\n",
       "    <tr>\n",
       "      <th>3</th>\n",
       "      <td>10511/7</td>\n",
       "      <td>10511</td>\n",
       "      <td>7</td>\n",
       "      <td>30.0</td>\n",
       "      <td>50</td>\n",
       "      <td>0.15</td>\n",
       "      <td>26.500000</td>\n",
       "      <td>2</td>\n",
       "    </tr>\n",
       "    <tr>\n",
       "      <th>4</th>\n",
       "      <td>10511/8</td>\n",
       "      <td>10511</td>\n",
       "      <td>8</td>\n",
       "      <td>40.0</td>\n",
       "      <td>10</td>\n",
       "      <td>0.15</td>\n",
       "      <td>15.000000</td>\n",
       "      <td>2</td>\n",
       "    </tr>\n",
       "    <tr>\n",
       "      <th>6</th>\n",
       "      <td>10664/10</td>\n",
       "      <td>10664</td>\n",
       "      <td>10</td>\n",
       "      <td>31.0</td>\n",
       "      <td>24</td>\n",
       "      <td>0.15</td>\n",
       "      <td>49.333333</td>\n",
       "      <td>3</td>\n",
       "    </tr>\n",
       "  </tbody>\n",
       "</table>\n",
       "</div>"
      ],
      "text/plain": [
       "         Id  OrderId  ProductId  UnitPrice  Quantity  Discount  avg_quanty  \\\n",
       "0   10348/1    10348          1       14.4        15      0.15   19.600000   \n",
       "1   10440/2    10440          2       15.2        45      0.15   25.000000   \n",
       "3   10511/7    10511          7       30.0        50      0.15   26.500000   \n",
       "4   10511/8    10511          8       40.0        10      0.15   15.000000   \n",
       "6  10664/10    10664         10       31.0        24      0.15   49.333333   \n",
       "\n",
       "   data_points  \n",
       "0            5  \n",
       "1            5  \n",
       "3            2  \n",
       "4            2  \n",
       "6            3  "
      ]
     },
     "execution_count": 53,
     "metadata": {},
     "output_type": "execute_result"
    }
   ],
   "source": [
    "withdiscount_df_15 = pd.read_sql_query(\"\"\"\n",
    "Select *, avg(Quantity) avg_quanty, count(*) data_points from OrderDetail where Discount = 0.15 group by ProductId order by ProductId\n",
    "\"\"\", engine)\n",
    "withdiscount_df_15 = withdiscount_df_15[withdiscount_df_15.data_points>1]\n",
    "withdiscount_df_15 = withdiscount_df_15.drop(withdiscount_df_15[withdiscount_df_15.ProductId==48].index)\n",
    "withdiscount_df_15.head()"
   ]
  },
  {
   "cell_type": "code",
   "execution_count": 54,
   "metadata": {},
   "outputs": [
    {
     "data": {
      "text/plain": [
       "(40, 40, 21.818650066401762, 26.91875)"
      ]
     },
     "execution_count": 54,
     "metadata": {},
     "output_type": "execute_result"
    }
   ],
   "source": [
    "samp_no_discount_15test = np.array(nodiscount_df_2[nodiscount_df_2.ProductId.isin(withdiscount_df_15['ProductId'])]['avg_quant'])\n",
    "samp_yes_discount_15test = np.array(withdiscount_df_15['avg_quanty'])\n",
    "len(samp_no_discount_15test), len(samp_yes_discount_15test), samp_no_discount_15test.mean(), samp_yes_discount_15test.mean()"
   ]
  },
  {
   "cell_type": "markdown",
   "metadata": {},
   "source": [
    "### Results:"
   ]
  },
  {
   "cell_type": "code",
   "execution_count": 55,
   "metadata": {},
   "outputs": [
    {
     "data": {
      "text/plain": [
       "Ttest_indResult(statistic=-2.232076426076059, pvalue=0.028479272373399957)"
      ]
     },
     "execution_count": 55,
     "metadata": {},
     "output_type": "execute_result"
    }
   ],
   "source": [
    "stats.ttest_ind(samp_no_discount_15test, samp_yes_discount_15test)"
   ]
  },
  {
   "cell_type": "markdown",
   "metadata": {},
   "source": [
    "#### With a pvalue of .028 we are easily able to reject the Null Hypo"
   ]
  },
  {
   "cell_type": "markdown",
   "metadata": {},
   "source": [
    "### Effect Size"
   ]
  },
  {
   "cell_type": "code",
   "execution_count": 56,
   "metadata": {},
   "outputs": [
    {
     "data": {
      "text/plain": [
       "-0.5054657751402939"
      ]
     },
     "execution_count": 56,
     "metadata": {},
     "output_type": "execute_result"
    }
   ],
   "source": [
    "Cohen_d(samp_no_discount_15test, samp_yes_discount_15test)"
   ]
  },
  {
   "cell_type": "markdown",
   "metadata": {},
   "source": [
    "### 20%"
   ]
  },
  {
   "cell_type": "code",
   "execution_count": 57,
   "metadata": {},
   "outputs": [
    {
     "data": {
      "text/html": [
       "<div>\n",
       "<style scoped>\n",
       "    .dataframe tbody tr th:only-of-type {\n",
       "        vertical-align: middle;\n",
       "    }\n",
       "\n",
       "    .dataframe tbody tr th {\n",
       "        vertical-align: top;\n",
       "    }\n",
       "\n",
       "    .dataframe thead th {\n",
       "        text-align: right;\n",
       "    }\n",
       "</style>\n",
       "<table border=\"1\" class=\"dataframe\">\n",
       "  <thead>\n",
       "    <tr style=\"text-align: right;\">\n",
       "      <th></th>\n",
       "      <th>Id</th>\n",
       "      <th>OrderId</th>\n",
       "      <th>ProductId</th>\n",
       "      <th>UnitPrice</th>\n",
       "      <th>Quantity</th>\n",
       "      <th>Discount</th>\n",
       "      <th>avg_quanty</th>\n",
       "      <th>data_points</th>\n",
       "    </tr>\n",
       "  </thead>\n",
       "  <tbody>\n",
       "    <tr>\n",
       "      <th>0</th>\n",
       "      <td>10285/1</td>\n",
       "      <td>10285</td>\n",
       "      <td>1</td>\n",
       "      <td>14.4</td>\n",
       "      <td>45</td>\n",
       "      <td>0.2</td>\n",
       "      <td>42.5</td>\n",
       "      <td>4</td>\n",
       "    </tr>\n",
       "    <tr>\n",
       "      <th>1</th>\n",
       "      <td>10258/2</td>\n",
       "      <td>10258</td>\n",
       "      <td>2</td>\n",
       "      <td>15.2</td>\n",
       "      <td>50</td>\n",
       "      <td>0.2</td>\n",
       "      <td>24.7</td>\n",
       "      <td>10</td>\n",
       "    </tr>\n",
       "    <tr>\n",
       "      <th>2</th>\n",
       "      <td>10464/4</td>\n",
       "      <td>10464</td>\n",
       "      <td>4</td>\n",
       "      <td>17.6</td>\n",
       "      <td>16</td>\n",
       "      <td>0.2</td>\n",
       "      <td>18.0</td>\n",
       "      <td>2</td>\n",
       "    </tr>\n",
       "    <tr>\n",
       "      <th>3</th>\n",
       "      <td>10258/5</td>\n",
       "      <td>10258</td>\n",
       "      <td>5</td>\n",
       "      <td>17.0</td>\n",
       "      <td>65</td>\n",
       "      <td>0.2</td>\n",
       "      <td>38.5</td>\n",
       "      <td>2</td>\n",
       "    </tr>\n",
       "    <tr>\n",
       "      <th>6</th>\n",
       "      <td>10357/10</td>\n",
       "      <td>10357</td>\n",
       "      <td>10</td>\n",
       "      <td>24.8</td>\n",
       "      <td>30</td>\n",
       "      <td>0.2</td>\n",
       "      <td>25.0</td>\n",
       "      <td>2</td>\n",
       "    </tr>\n",
       "  </tbody>\n",
       "</table>\n",
       "</div>"
      ],
      "text/plain": [
       "         Id  OrderId  ProductId  UnitPrice  Quantity  Discount  avg_quanty  \\\n",
       "0   10285/1    10285          1       14.4        45       0.2        42.5   \n",
       "1   10258/2    10258          2       15.2        50       0.2        24.7   \n",
       "2   10464/4    10464          4       17.6        16       0.2        18.0   \n",
       "3   10258/5    10258          5       17.0        65       0.2        38.5   \n",
       "6  10357/10    10357         10       24.8        30       0.2        25.0   \n",
       "\n",
       "   data_points  \n",
       "0            4  \n",
       "1           10  \n",
       "2            2  \n",
       "3            2  \n",
       "6            2  "
      ]
     },
     "execution_count": 57,
     "metadata": {},
     "output_type": "execute_result"
    }
   ],
   "source": [
    "withdiscount_df_20 = pd.read_sql_query(\"\"\"\n",
    "Select *, avg(Quantity) avg_quanty, count(*) data_points from OrderDetail where Discount = 0.20 group by ProductId order by ProductId\n",
    "\"\"\", engine)\n",
    "withdiscount_df_20 = withdiscount_df_20[withdiscount_df_20.data_points>1]\n",
    "withdiscount_df_20.head()"
   ]
  },
  {
   "cell_type": "code",
   "execution_count": 58,
   "metadata": {},
   "outputs": [
    {
     "data": {
      "text/plain": [
       "(45, 45, 21.014446021044616, 28.063333333333333)"
      ]
     },
     "execution_count": 58,
     "metadata": {},
     "output_type": "execute_result"
    }
   ],
   "source": [
    "samp_no_discount_20test = np.array(nodiscount_df_2[nodiscount_df_2.ProductId.isin(withdiscount_df_20['ProductId'])]['avg_quant'])\n",
    "samp_yes_discount_20test = np.array(withdiscount_df_20['avg_quanty'])\n",
    "len(samp_no_discount_20test), len(samp_yes_discount_20test), samp_no_discount_20test.mean(), samp_yes_discount_20test.mean()"
   ]
  },
  {
   "cell_type": "markdown",
   "metadata": {},
   "source": [
    "### Results:"
   ]
  },
  {
   "cell_type": "code",
   "execution_count": 59,
   "metadata": {
    "scrolled": true
   },
   "outputs": [
    {
     "data": {
      "text/plain": [
       "Ttest_indResult(statistic=-4.02751597257798, pvalue=0.00011926263718331566)"
      ]
     },
     "execution_count": 59,
     "metadata": {},
     "output_type": "execute_result"
    }
   ],
   "source": [
    "stats.ttest_ind(samp_no_discount_20test, samp_yes_discount_20test)"
   ]
  },
  {
   "cell_type": "markdown",
   "metadata": {},
   "source": [
    "#### This the smallest pvalue yet for rejecting the Null Hypo.  Makes sense as a 20% discount is a lot of money saved "
   ]
  },
  {
   "cell_type": "markdown",
   "metadata": {},
   "source": [
    "### Effect Size"
   ]
  },
  {
   "cell_type": "code",
   "execution_count": 60,
   "metadata": {},
   "outputs": [
    {
     "data": {
      "text/plain": [
       "-0.8586692904872885"
      ]
     },
     "execution_count": 60,
     "metadata": {},
     "output_type": "execute_result"
    }
   ],
   "source": [
    "Cohen_d(samp_no_discount_20test, samp_yes_discount_20test)"
   ]
  },
  {
   "cell_type": "markdown",
   "metadata": {},
   "source": [
    "### 25%"
   ]
  },
  {
   "cell_type": "code",
   "execution_count": 61,
   "metadata": {},
   "outputs": [
    {
     "data": {
      "text/html": [
       "<div>\n",
       "<style scoped>\n",
       "    .dataframe tbody tr th:only-of-type {\n",
       "        vertical-align: middle;\n",
       "    }\n",
       "\n",
       "    .dataframe tbody tr th {\n",
       "        vertical-align: top;\n",
       "    }\n",
       "\n",
       "    .dataframe thead th {\n",
       "        text-align: right;\n",
       "    }\n",
       "</style>\n",
       "<table border=\"1\" class=\"dataframe\">\n",
       "  <thead>\n",
       "    <tr style=\"text-align: right;\">\n",
       "      <th></th>\n",
       "      <th>Id</th>\n",
       "      <th>OrderId</th>\n",
       "      <th>ProductId</th>\n",
       "      <th>UnitPrice</th>\n",
       "      <th>Quantity</th>\n",
       "      <th>Discount</th>\n",
       "      <th>avg_quanty</th>\n",
       "      <th>data_points</th>\n",
       "    </tr>\n",
       "  </thead>\n",
       "  <tbody>\n",
       "    <tr>\n",
       "      <th>0</th>\n",
       "      <td>10646/1</td>\n",
       "      <td>10646</td>\n",
       "      <td>1</td>\n",
       "      <td>18.0</td>\n",
       "      <td>15</td>\n",
       "      <td>0.25</td>\n",
       "      <td>27.80</td>\n",
       "      <td>5</td>\n",
       "    </tr>\n",
       "    <tr>\n",
       "      <th>1</th>\n",
       "      <td>10393/2</td>\n",
       "      <td>10393</td>\n",
       "      <td>2</td>\n",
       "      <td>15.2</td>\n",
       "      <td>25</td>\n",
       "      <td>0.25</td>\n",
       "      <td>34.50</td>\n",
       "      <td>6</td>\n",
       "    </tr>\n",
       "    <tr>\n",
       "      <th>2</th>\n",
       "      <td>10913/4</td>\n",
       "      <td>10913</td>\n",
       "      <td>4</td>\n",
       "      <td>22.0</td>\n",
       "      <td>30</td>\n",
       "      <td>0.25</td>\n",
       "      <td>27.50</td>\n",
       "      <td>2</td>\n",
       "    </tr>\n",
       "    <tr>\n",
       "      <th>8</th>\n",
       "      <td>10489/11</td>\n",
       "      <td>10489</td>\n",
       "      <td>11</td>\n",
       "      <td>16.8</td>\n",
       "      <td>15</td>\n",
       "      <td>0.25</td>\n",
       "      <td>18.75</td>\n",
       "      <td>4</td>\n",
       "    </tr>\n",
       "    <tr>\n",
       "      <th>11</th>\n",
       "      <td>10393/14</td>\n",
       "      <td>10393</td>\n",
       "      <td>14</td>\n",
       "      <td>18.6</td>\n",
       "      <td>42</td>\n",
       "      <td>0.25</td>\n",
       "      <td>31.00</td>\n",
       "      <td>2</td>\n",
       "    </tr>\n",
       "  </tbody>\n",
       "</table>\n",
       "</div>"
      ],
      "text/plain": [
       "          Id  OrderId  ProductId  UnitPrice  Quantity  Discount  avg_quanty  \\\n",
       "0    10646/1    10646          1       18.0        15      0.25       27.80   \n",
       "1    10393/2    10393          2       15.2        25      0.25       34.50   \n",
       "2    10913/4    10913          4       22.0        30      0.25       27.50   \n",
       "8   10489/11    10489         11       16.8        15      0.25       18.75   \n",
       "11  10393/14    10393         14       18.6        42      0.25       31.00   \n",
       "\n",
       "    data_points  \n",
       "0             5  \n",
       "1             6  \n",
       "2             2  \n",
       "8             4  \n",
       "11            2  "
      ]
     },
     "execution_count": 61,
     "metadata": {},
     "output_type": "execute_result"
    }
   ],
   "source": [
    "withdiscount_df_25 = pd.read_sql_query(\"\"\"\n",
    "Select *, avg(Quantity) avg_quanty, count(*) data_points from OrderDetail where Discount = 0.25 group by ProductId order by ProductId\n",
    "\"\"\", engine)\n",
    "withdiscount_df_25 = withdiscount_df_25[withdiscount_df_25.data_points>1]\n",
    "withdiscount_df_25 = withdiscount_df_25.drop(withdiscount_df_25[withdiscount_df_25.ProductId==48].index)\n",
    "withdiscount_df_25.head()"
   ]
  },
  {
   "cell_type": "code",
   "execution_count": 62,
   "metadata": {},
   "outputs": [
    {
     "data": {
      "text/plain": [
       "(38, 38, 20.94664847927541, 28.31472431077694)"
      ]
     },
     "execution_count": 62,
     "metadata": {},
     "output_type": "execute_result"
    }
   ],
   "source": [
    "samp_no_discount_25test = np.array(nodiscount_df_2[nodiscount_df_2.ProductId.isin(withdiscount_df_25['ProductId'])]['avg_quant'])\n",
    "samp_yes_discount_25test = np.array(withdiscount_df_25['avg_quanty'])\n",
    "len(samp_no_discount_25test), len(samp_yes_discount_25test), samp_no_discount_25test.mean(), samp_yes_discount_25test.mean()"
   ]
  },
  {
   "cell_type": "markdown",
   "metadata": {},
   "source": [
    "### Results:"
   ]
  },
  {
   "cell_type": "code",
   "execution_count": 63,
   "metadata": {},
   "outputs": [
    {
     "data": {
      "text/plain": [
       "Ttest_indResult(statistic=-3.7506491864303517, pvalue=0.000347867397738462)"
      ]
     },
     "execution_count": 63,
     "metadata": {},
     "output_type": "execute_result"
    }
   ],
   "source": [
    "stats.ttest_ind(samp_no_discount_25test, samp_yes_discount_25test)"
   ]
  },
  {
   "cell_type": "markdown",
   "metadata": {},
   "source": [
    "#### The difference in means is the greatest yet but because of the smaller sample sizes this pvalue is still ever so slightly bigger than for the 20% discount test"
   ]
  },
  {
   "cell_type": "markdown",
   "metadata": {},
   "source": [
    "### Effect Size"
   ]
  },
  {
   "cell_type": "code",
   "execution_count": 64,
   "metadata": {},
   "outputs": [
    {
     "data": {
      "text/plain": [
       "-0.8720082233579105"
      ]
     },
     "execution_count": 64,
     "metadata": {},
     "output_type": "execute_result"
    }
   ],
   "source": [
    "Cohen_d(samp_no_discount_25test, samp_yes_discount_25test)"
   ]
  },
  {
   "cell_type": "markdown",
   "metadata": {},
   "source": [
    "# Discount Review\n",
    "\n",
    "Even though in general one would assume that an incremental increase in discount % would lead to increases in sales at each increment, I wasn't sure we would see that in our data.  Mostly because these are just limited sample sizes.  Over time and with enough data points I would expect our data to reflect that.\n",
    "\n",
    "But our data mostly showed that too.  If you take out only the results from the test on 5% discounts, there was an increase in effect size (using Cohen's D) at each interval (10,15,20,25).  The 5% results showed greater increase in mean sales totals than 10 and 15 but significantly less than 20 and 25.\n",
    "\n",
    "The effect sizes for 20 and 25 were both above .85  Slightly greater than what is considered a \"large effect\". So if I was this business trying to make policy from this data, I would make sure to have discounts 20 or 25 percent if I wanted to see good increase in average sales per order totals.  If I had to recommend 1 discount for being the most effective I would say the 20% discount.  Because there was hardly any difference in mean difference but you are saving the company 5% on each sale by having the discount at 20 instead of 25"
   ]
  }
 ],
 "metadata": {
  "kernelspec": {
   "display_name": "learn-env",
   "language": "python",
   "name": "learn-env"
  },
  "language_info": {
   "codemirror_mode": {
    "name": "ipython",
    "version": 3
   },
   "file_extension": ".py",
   "mimetype": "text/x-python",
   "name": "python",
   "nbconvert_exporter": "python",
   "pygments_lexer": "ipython3",
   "version": "3.6.8"
  }
 },
 "nbformat": 4,
 "nbformat_minor": 2
}
